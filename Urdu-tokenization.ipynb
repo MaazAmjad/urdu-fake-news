{
 "cells": [
  {
   "cell_type": "code",
   "execution_count": 11,
   "metadata": {},
   "outputs": [],
   "source": [
    "# import required libraries\n",
    "from spacy.lang.da.examples import sentences"
   ]
  },
  {
   "cell_type": "code",
   "execution_count": 12,
   "metadata": {},
   "outputs": [],
   "source": [
    "sentences = [    \"اردو ہے جس کا نام ہم جانتے ہیں داغ\",\n",
    "             \"سارے جہاں میں دھوم ہماری زباں کی ہے\",\n",
    "            ]"
   ]
  },
  {
   "cell_type": "code",
   "execution_count": 13,
   "metadata": {},
   "outputs": [],
   "source": [
    "#lets convert it to single string \n",
    "document = \" \".join(sentences)"
   ]
  },
  {
   "cell_type": "code",
   "execution_count": 15,
   "metadata": {},
   "outputs": [
    {
     "name": "stdout",
     "output_type": "stream",
     "text": [
      "اردو\n",
      "ہے\n",
      "جس\n",
      "کا\n",
      "نام\n",
      "ہم\n",
      "جانتے\n",
      "ہیں\n",
      "داغ\n",
      "سارے\n",
      "جہاں\n",
      "میں\n",
      "دھوم\n",
      "ہماری\n",
      "زباں\n",
      "کی\n",
      "ہے\n"
     ]
    }
   ],
   "source": [
    "docs = nlp(document)\n",
    "for token in docs:\n",
    "    print(token.text)"
   ]
  },
  {
   "cell_type": "code",
   "execution_count": null,
   "metadata": {},
   "outputs": [],
   "source": []
  }
 ],
 "metadata": {
  "kernelspec": {
   "display_name": "Python 3",
   "language": "python",
   "name": "python3"
  },
  "language_info": {
   "codemirror_mode": {
    "name": "ipython",
    "version": 3
   },
   "file_extension": ".py",
   "mimetype": "text/x-python",
   "name": "python",
   "nbconvert_exporter": "python",
   "pygments_lexer": "ipython3",
   "version": "3.6.5"
  }
 },
 "nbformat": 4,
 "nbformat_minor": 2
}
